{
 "cells": [
  {
   "cell_type": "code",
   "execution_count": 13,
   "metadata": {},
   "outputs": [],
   "source": [
    "import torch\n",
    "import numpy as np\n",
    "import math\n",
    "from torch.utils.data import Dataset, DataLoader\n",
    "from torch.autograd import Variable\n",
    "from sklearn.model_selection import train_test_split\n",
    "import torch.nn as nn\n",
    "import matplotlib.pyplot as plt\n",
    "from sklearn import preprocessing\n",
    "from sklearn.metrics import r2_score\n",
    "import random\n",
    "import matplotlib as mpl\n",
    "import os\n",
    "import gc\n",
    "import pandas as pd\n",
    "import csv\n",
    "from numpy import *\n",
    "\n",
    "from torch.utils.tensorboard import SummaryWriter\n",
    "from datetime import date\n",
    "from generate_property import output_property"
   ]
  },
  {
   "cell_type": "code",
   "execution_count": 14,
   "metadata": {},
   "outputs": [
    {
     "name": "stdout",
     "output_type": "stream",
     "text": [
      "Raw data shape (4011, 2)\n"
     ]
    }
   ],
   "source": [
    "data = pd.read_excel('./All_Information.xlsx')\n",
    "data = data[['Sequence', 'GRAVY']]\n",
    "data = data.drop(data[data['GRAVY'] == 'Not Applicable'].index)\n",
    "data = np.array(data)\n",
    "print('Raw data shape', data.shape)\n",
    "# plt.hist(data[:,1], bins=10)\n",
    "# plt.show()"
   ]
  },
  {
   "cell_type": "code",
   "execution_count": 15,
   "metadata": {},
   "outputs": [
    {
     "name": "stdout",
     "output_type": "stream",
     "text": [
      "Max len is 97\n"
     ]
    }
   ],
   "source": [
    "## finding the largest protein\n",
    "def find_max_len(data):\n",
    "    max_len = 0\n",
    "    for i in range(data.shape[0]):\n",
    "        str_len = list(data[i,0])\n",
    "        if max_len < len(str_len):\n",
    "            max_len = len(str_len)\n",
    "            # print(max_len)\n",
    "    print('Max len is', max_len)\n",
    "    return max_len\n",
    "\n",
    "max_len = find_max_len(data)"
   ]
  },
  {
   "cell_type": "code",
   "execution_count": 16,
   "metadata": {},
   "outputs": [
    {
     "name": "stdout",
     "output_type": "stream",
     "text": [
      "Number of unique amino acids are 20\n"
     ]
    }
   ],
   "source": [
    "# # different amino acids\n",
    "amino_acid = ['A', 'V', 'F', 'I', 'L','D','E','K','S','T','Y','C','N','Q', 'P','M', 'R', 'H', 'W', 'G'] # O is the uncommon amino acid, so total length is 21\n",
    "# amino_acid = ['A', 'V', 'F', 'I', 'L','D','E','K','S','T','Y','C','N','Q', 'P','M', 'R', 'H', 'W', 'G','X'] # O is the uncommon amino acid, so total length is 21\n",
    "print('Number of unique amino acids are', np.shape(np.unique(amino_acid))[0])\n",
    "np.save('../model/categorical_variables', amino_acid)\n",
    "\n",
    "def onehotseq(sequence):\n",
    "  aa_seq = ''\n",
    "  seq_len = len(sequence)\n",
    "  seq_en = np.zeros(( seq_len, np.shape(amino_acid)[0]))\n",
    "  act_len = 0\n",
    "  for i in range(seq_len):\n",
    "    if sequence[i] in amino_acid:\n",
    "      pos = amino_acid.index(sequence[i])\n",
    "      seq_en[act_len,pos] = 1\n",
    "      act_len += 1  \n",
    "      aa_seq += sequence[i]    \n",
    "    elif (sequence[i] not in amino_acid) and (sequence[i] != \" \") and (sequence[i] != '\\ufeff'):\n",
    "      pos = amino_acid.index('X')\n",
    "      seq_en[act_len,pos] = 1\n",
    "      act_len += 1 \n",
    "      aa_seq += sequence[i]\n",
    "  return seq_en[0:act_len, :], aa_seq"
   ]
  },
  {
   "cell_type": "code",
   "execution_count": 17,
   "metadata": {},
   "outputs": [],
   "source": [
    "# max_len = find_max_len(data)\n",
    "ohe = np.zeros((data.shape[0], max_len, len(amino_acid)))  ## batch size*sequenc_len*21\n",
    "seq_string = np.zeros((data.shape[0],), dtype=object) ## it will store the string of amino acids\n",
    "seq_lengths = np.zeros((data.shape[0],))\n",
    "tm = np.zeros((data.shape[0], 1))\n",
    "\n",
    "for i in range(ohe.shape[0]):\n",
    "    seq_en, aa_seq = onehotseq(list(data[i,0]))\n",
    "    seq_string[i,] = aa_seq\n",
    "    ohe[i,0:seq_en.shape[0],:] =  seq_en\n",
    "    seq_lengths[i,] = seq_en.shape[0]\n",
    "    tm[i,0] = data[i,1]\n",
    "\n",
    "# print(seq_string)\n",
    "# np.save('./pure_b_factor_model/collagen_all_ohe', ohe)\n",
    "# np.save('./pure_b_factor_model/collagen_all_seq_lengths', seq_lengths)\n",
    "# np.save('./pure_b_factor_model/collagen_all_tm', tm)\n",
    "output_y = tm\n",
    "seq_length = seq_lengths\n",
    "\n",
    "toy_prop=  output_property(ohe, seq_length)\n",
    "\n",
    "output_y = toy_prop\n",
    "\n",
    "idx_20 = (seq_length>20)\n",
    "seq_length = seq_length[idx_20]\n",
    "ohe = ohe[idx_20]\n",
    "output_y = output_y[idx_20]"
   ]
  },
  {
   "cell_type": "code",
   "execution_count": 18,
   "metadata": {},
   "outputs": [
    {
     "name": "stdout",
     "output_type": "stream",
     "text": [
      "Train (879,)\n",
      "Test (150,)\n",
      "Valid (150,)\n",
      "(879, 97, 20) (879,) (879,)\n"
     ]
    }
   ],
   "source": [
    "all_ex = np.arange(ohe.shape[0])\n",
    "X, x_test, _, _ = train_test_split( all_ex, all_ex, test_size=0.127,random_state=50) ## [10,50,70]\n",
    "x_train, x_valid, _, _ = train_test_split( X, X, test_size=0.145,random_state=50)\n",
    "\n",
    "print('Train',x_train.shape)\n",
    "print('Test' ,x_test.shape)\n",
    "print('Valid',x_valid.shape)\n",
    "\n",
    "print(ohe[x_train].shape, seq_length[x_train].shape, output_y[x_train].shape)"
   ]
  },
  {
   "cell_type": "code",
   "execution_count": 19,
   "metadata": {},
   "outputs": [],
   "source": [
    "np.save('./x_train', ohe[x_train])\n",
    "np.save('./len_train', seq_length[x_train])\n",
    "np.save('./y_train', output_y[x_train])\n",
    "\n",
    "np.save('./x_valid', ohe[x_valid])\n",
    "np.save('./len_valid', seq_length[x_valid])\n",
    "np.save('./y_valid', output_y[x_valid])\n",
    "\n",
    "np.save('./x_test', ohe[x_test])\n",
    "np.save('./len_test', seq_length[x_test])\n",
    "np.save('./y_test', output_y[x_test])\n",
    "\n",
    "    \n",
    "# np.save('./store_data/x_train'+str(trial), ohe[x_train])\n",
    "# np.save('./store_data/len_train'+str(trial), seq_length[x_train])\n",
    "# np.save('./store_data/y_train'+str(trial), output_y[x_train])\n",
    "\n",
    "# np.save('./store_data/x_valid'+str(trial), ohe[x_valid])\n",
    "# np.save('./store_data/len_valid'+str(trial), seq_length[x_valid])\n",
    "# np.save('./store_data/y_valid'+str(trial), output_y[x_valid])\n",
    "\n",
    "# np.save('./store_data/x_test'+str(trial), ohe[x_test])\n",
    "# np.save('./store_data/len_test'+str(trial), seq_length[x_test])\n",
    "# np.save('./store_data/y_test'+str(trial), output_y[x_test])"
   ]
  },
  {
   "cell_type": "code",
   "execution_count": 20,
   "metadata": {},
   "outputs": [
    {
     "data": {
      "text/plain": [
       "(array([ 59., 259., 190., 204., 183., 143.,  92.,  28.,  19.,   2.]),\n",
       " array([  0.        ,  22.28571429,  44.57142857,  66.85714286,\n",
       "         89.14285714, 111.42857143, 133.71428571, 156.        ,\n",
       "        178.28571429, 200.57142857, 222.85714286]),\n",
       " <BarContainer object of 10 artists>)"
      ]
     },
     "execution_count": 20,
     "metadata": {},
     "output_type": "execute_result"
    },
    {
     "data": {
      "image/png": "[encoded data removed]",
      "text/plain": [
       "<Figure size 640x480 with 1 Axes>"
      ]
     },
     "metadata": {},
     "output_type": "display_data"
    }
   ],
   "source": [
    "plt.hist(output_y)"
   ]
  }
 ],
 "metadata": {
  "kernelspec": {
   "display_name": "torch",
   "language": "python",
   "name": "python3"
  },
  "language_info": {
   "codemirror_mode": {
    "name": "ipython",
    "version": 3
   },
   "file_extension": ".py",
   "mimetype": "text/x-python",
   "name": "python",
   "nbconvert_exporter": "python",
   "pygments_lexer": "ipython3",
   "version": "3.8.17"
  }
 },
 "nbformat": 4,
 "nbformat_minor": 2
}
