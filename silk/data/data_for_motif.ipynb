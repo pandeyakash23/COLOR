{
 "cells": [
  {
   "cell_type": "code",
   "execution_count": 1,
   "metadata": {},
   "outputs": [],
   "source": [
    "import torch\n",
    "import numpy as np\n",
    "import math\n",
    "from torch.utils.data import Dataset, DataLoader\n",
    "from torch.autograd import Variable\n",
    "from sklearn.model_selection import train_test_split\n",
    "import torch.nn as nn\n",
    "import matplotlib.pyplot as plt\n",
    "from sklearn import preprocessing\n",
    "from sklearn.metrics import r2_score\n",
    "import matplotlib as mpl\n",
    "import os\n",
    "import gc\n",
    "import pandas as pd\n",
    "import csv\n",
    "from numpy import *\n",
    "from torch.utils.tensorboard import SummaryWriter\n",
    "from datetime import date\n",
    "import random"
   ]
  },
  {
   "cell_type": "code",
   "execution_count": 2,
   "metadata": {},
   "outputs": [
    {
     "name": "stdout",
     "output_type": "stream",
     "text": [
      "Number of unique amino acids are 21\n"
     ]
    }
   ],
   "source": [
    "## different amino acids\n",
    "amino_acid = \\\n",
    "  ['A', 'V', 'F', 'I', 'L','D','E','K','S','T','Y','C','N','Q', 'P','M', 'R', 'H', 'W', 'G','X'] # X is the undetermined amino acid, so total length is 21\n",
    "print('Number of unique amino acids are', np.shape(np.unique(amino_acid))[0])\n",
    "\n",
    "np.save('../model/categorical_variables', amino_acid)\n",
    "\n",
    "def onehotseq(sequence):\n",
    "  seq_len = len(sequence)\n",
    "  seq_en = np.zeros(( seq_len, np.shape(amino_acid)[0]))\n",
    "  for i in range(seq_len):\n",
    "      idx = amino_acid.index(sequence[i])\n",
    "      seq_en[i,idx] = 1\n",
    "  return seq_en"
   ]
  },
  {
   "cell_type": "markdown",
   "metadata": {},
   "source": [
    "**All Dataset**"
   ]
  },
  {
   "cell_type": "code",
   "execution_count": 3,
   "metadata": {},
   "outputs": [
    {
     "name": "stdout",
     "output_type": "stream",
     "text": [
      "GGAGQGGYGGLGSQGAGRGGLGGQKIKIKIKIKIKIKQGGYGGLGSQGAGRGGLGGQGAG\n",
      "[0. 0. 0. 0. 0. 0. 0. 0. 0. 0. 0. 0. 0. 1. 0. 0. 0. 0. 0. 0. 0.]\n"
     ]
    }
   ],
   "source": [
    "data = pd.read_excel('data.xlsx')\n",
    "data = data.to_numpy()\n",
    "seq_length = np.zeros((len(data),))\n",
    "\n",
    "for i in range(len(data)):\n",
    "    temp = list(data[i,0])\n",
    "    seq_length[i] = len(temp)\n",
    "\n",
    "output_y = data[:,1].astype(float32)\n",
    "raw_seq = data[:,0]\n",
    "\n",
    "ohe = np.zeros((raw_seq.shape[0], int(max(seq_length)), len(amino_acid)))\n",
    "for i in range(ohe.shape[0]): \n",
    "    l = int(seq_length[i])\n",
    "    ohe[i,0:l,:] = onehotseq(list(raw_seq[i]))\n",
    "\n",
    "print(raw_seq[10])\n",
    "print(ohe[10,4])"
   ]
  },
  {
   "cell_type": "code",
   "execution_count": 4,
   "metadata": {},
   "outputs": [
    {
     "data": {
      "image/png": "[encoded data removed]",
      "text/plain": [
       "<Figure size 640x480 with 1 Axes>"
      ]
     },
     "metadata": {},
     "output_type": "display_data"
    }
   ],
   "source": [
    "plt.hist(output_y, bins=20, color='skyblue', edgecolor='black', density=True)\n",
    "plt.xlabel('Property y', fontsize=14)\n",
    "plt.xticks(fontsize=12)\n",
    "plt.yticks(fontsize=12)\n",
    "plt.show()"
   ]
  },
  {
   "cell_type": "markdown",
   "metadata": {},
   "source": [
    "**Divide Dataset**"
   ]
  },
  {
   "cell_type": "code",
   "execution_count": 5,
   "metadata": {},
   "outputs": [
    {
     "name": "stdout",
     "output_type": "stream",
     "text": [
      "Train (50,)\n",
      "Test (15,)\n",
      "Valid (15,)\n",
      "(50, 60, 21) (50,) (50,)\n"
     ]
    }
   ],
   "source": [
    "all_ex = np.arange(ohe.shape[0])\n",
    "x_train, x_test, _, _ = train_test_split( all_ex, all_ex, test_size=0.1875,random_state=50) ##[10,100,1000]\n",
    "x_train, x_valid, _, _ = train_test_split( x_train, x_train, test_size=0.2307,random_state=100)\n",
    "\n",
    "print('Train',x_train.shape)\n",
    "print('Test' ,x_test.shape)\n",
    "print('Valid',x_valid.shape)\n",
    "\n",
    "print(ohe[x_train].shape, seq_length[x_train].shape, output_y[x_train].shape)"
   ]
  },
  {
   "cell_type": "code",
   "execution_count": 6,
   "metadata": {},
   "outputs": [
    {
     "name": "stdout",
     "output_type": "stream",
     "text": [
      "60.0 60.0\n"
     ]
    }
   ],
   "source": [
    "np.save('./x_train', ohe[x_train])\n",
    "np.save('./len_train', seq_length[x_train])\n",
    "np.save('./y_train', output_y[x_train])\n",
    "\n",
    "np.save('./x_valid', ohe[x_valid])\n",
    "np.save('./len_valid', seq_length[x_valid])\n",
    "np.save('./y_valid', output_y[x_valid])\n",
    "\n",
    "np.save('./x_test', ohe[x_test])\n",
    "np.save('./len_test', seq_length[x_test])\n",
    "np.save('./y_test', output_y[x_test])\n",
    "\n",
    "\n",
    "print(max(seq_length), min(seq_length))"
   ]
  },
  {
   "cell_type": "code",
   "execution_count": null,
   "metadata": {},
   "outputs": [],
   "source": []
  }
 ],
 "metadata": {
  "kernelspec": {
   "display_name": "torch",
   "language": "python",
   "name": "python3"
  },
  "language_info": {
   "codemirror_mode": {
    "name": "ipython",
    "version": 3
   },
   "file_extension": ".py",
   "mimetype": "text/x-python",
   "name": "python",
   "nbconvert_exporter": "python",
   "pygments_lexer": "ipython3",
   "version": "3.8.17"
  }
 },
 "nbformat": 4,
 "nbformat_minor": 2
}
